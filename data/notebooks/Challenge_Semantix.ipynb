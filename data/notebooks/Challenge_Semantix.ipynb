{
 "cells": [
  {
   "cell_type": "markdown",
   "metadata": {},
   "source": [
    "### Enviando Arquivos para o HDFS\n",
    "\n",
    "- Enviar os dados para o diretório /semantix/challenge/input \n",
    "- Acessar o Namenode docker exec -it namenode bash\n",
    "- Criar diretório no HDFS /user/NOME_USER/data/covid -- hdfs dfs -mkdir /user/NOME_USER/data/covid\n",
    "- Enviar todos os dados .csv para o HDFS -- hdfs dfs -put /input/dados_covid_19/*.csv /user/NOME_USER/data/covid\n",
    "- Enviar dados para a tabela HIVE -- load data inpath '/user/NOME_USER/data/covid' overwrite into table NOME_TABLE;"
   ]
  },
  {
   "cell_type": "code",
   "execution_count": 30,
   "metadata": {},
   "outputs": [
    {
     "name": "stdout",
     "output_type": "stream",
     "text": [
      "Found 4 items\r\n",
      "-rwxrwxr-x   3 root supergroup   62492959 2022-04-29 15:26 /user/hive/warehouse/covid.db/dados_cov_br/HIST_PAINEL_COVIDBR_2020_Parte1_06jul2021.csv\r\n",
      "-rwxrwxr-x   3 root supergroup   76520681 2022-04-29 15:26 /user/hive/warehouse/covid.db/dados_cov_br/HIST_PAINEL_COVIDBR_2020_Parte2_06jul2021.csv\r\n",
      "-rwxrwxr-x   3 root supergroup   91120916 2022-04-29 15:26 /user/hive/warehouse/covid.db/dados_cov_br/HIST_PAINEL_COVIDBR_2021_Parte1_06jul2021.csv\r\n",
      "-rwxrwxr-x   3 root supergroup    3046774 2022-04-29 15:26 /user/hive/warehouse/covid.db/dados_cov_br/HIST_PAINEL_COVIDBR_2021_Parte2_06jul2021.csv\r\n"
     ]
    }
   ],
   "source": [
    "!hdfs dfs -ls /user/hive/warehouse/covid.db/dados_cov_br"
   ]
  },
  {
   "cell_type": "code",
   "execution_count": 171,
   "metadata": {},
   "outputs": [
    {
     "name": "stdout",
     "output_type": "stream",
     "text": [
      "Found 2 items\r\n",
      "drwxr-xr-x   - root supergroup          0 2022-04-29 17:53 /user/bross/data/covid/ano=2020\r\n",
      "drwxr-xr-x   - root supergroup          0 2022-04-29 17:54 /user/bross/data/covid/ano=2021\r\n"
     ]
    }
   ],
   "source": [
    "!hdfs dfs -ls /user/bross/data/covid"
   ]
  },
  {
   "cell_type": "code",
   "execution_count": 217,
   "metadata": {},
   "outputs": [],
   "source": [
    "df_covid = spark.read.csv('/user/bross/data/covid', header='true', sep=';', inferSchema=False)"
   ]
  },
  {
   "cell_type": "code",
   "execution_count": 175,
   "metadata": {},
   "outputs": [],
   "source": [
    "from pyspark.sql.types import *"
   ]
  },
  {
   "cell_type": "code",
   "execution_count": 218,
   "metadata": {},
   "outputs": [
    {
     "name": "stdout",
     "output_type": "stream",
     "text": [
      "root\n",
      " |-- regiao: string (nullable = true)\n",
      " |-- estado: string (nullable = true)\n",
      " |-- municipio: string (nullable = true)\n",
      " |-- coduf: string (nullable = true)\n",
      " |-- codmun: string (nullable = true)\n",
      " |-- codRegiaoSaude: string (nullable = true)\n",
      " |-- nomeRegiaoSaude: string (nullable = true)\n",
      " |-- data: string (nullable = true)\n",
      " |-- semanaEpi: string (nullable = true)\n",
      " |-- populacaoTCU2019: string (nullable = true)\n",
      " |-- casosAcumulado: string (nullable = true)\n",
      " |-- casosNovos: string (nullable = true)\n",
      " |-- obitosAcumulado: string (nullable = true)\n",
      " |-- obitosNovos: string (nullable = true)\n",
      " |-- Recuperadosnovos: string (nullable = true)\n",
      " |-- emAcompanhamentoNovos: string (nullable = true)\n",
      " |-- interior/metropolitana: string (nullable = true)\n",
      " |-- ano: integer (nullable = true)\n",
      "\n"
     ]
    }
   ],
   "source": [
    "df_covid.printSchema()"
   ]
  },
  {
   "cell_type": "code",
   "execution_count": 219,
   "metadata": {},
   "outputs": [],
   "source": [
    "schema_df = StructType([\n",
    "    StructField('regiao', StringType(), nullable=False),\n",
    "    StructField('estado', StringType(), nullable=False),\n",
    "    StructField('municipio', StringType()),\n",
    "    StructField('coduf', IntegerType()),\n",
    "    StructField('codmun', IntegerType()),\n",
    "    StructField('codRegiaoSaude', IntegerType()),\n",
    "    StructField('nomeRegiaoSaude', StringType()),\n",
    "    StructField('data', StringType()),\n",
    "    StructField('semanaEpi', StringType()),\n",
    "    StructField('populacaoTCU2019', StringType()),\n",
    "    StructField('casosAcumulado', IntegerType()),\n",
    "    StructField('casosNovos', IntegerType()),\n",
    "    StructField('obitosAcumulado', IntegerType()),\n",
    "    StructField('obitosNovos', IntegerType()),\n",
    "    StructField('Recuperadosnovos', IntegerType()),\n",
    "    StructField('emAcompanhamentoNovos', IntegerType()),\n",
    "    StructField('interior/metropolitana', IntegerType()),\n",
    "    StructField('ano', IntegerType())\n",
    "])"
   ]
  },
  {
   "cell_type": "code",
   "execution_count": 220,
   "metadata": {},
   "outputs": [],
   "source": [
    "df_covid = spark.read.csv('/user/bross/data/covid/ano=2020', header=True, sep=';', schema=schema_df)"
   ]
  },
  {
   "cell_type": "code",
   "execution_count": 221,
   "metadata": {
    "scrolled": true
   },
   "outputs": [
    {
     "name": "stdout",
     "output_type": "stream",
     "text": [
      "root\n",
      " |-- regiao: string (nullable = true)\n",
      " |-- estado: string (nullable = true)\n",
      " |-- municipio: string (nullable = true)\n",
      " |-- coduf: integer (nullable = true)\n",
      " |-- codmun: integer (nullable = true)\n",
      " |-- codRegiaoSaude: integer (nullable = true)\n",
      " |-- nomeRegiaoSaude: string (nullable = true)\n",
      " |-- data: string (nullable = true)\n",
      " |-- semanaEpi: string (nullable = true)\n",
      " |-- populacaoTCU2019: string (nullable = true)\n",
      " |-- casosAcumulado: integer (nullable = true)\n",
      " |-- casosNovos: integer (nullable = true)\n",
      " |-- obitosAcumulado: integer (nullable = true)\n",
      " |-- obitosNovos: integer (nullable = true)\n",
      " |-- Recuperadosnovos: integer (nullable = true)\n",
      " |-- emAcompanhamentoNovos: integer (nullable = true)\n",
      " |-- interior/metropolitana: integer (nullable = true)\n",
      " |-- ano: integer (nullable = true)\n",
      "\n"
     ]
    }
   ],
   "source": [
    "df_covid.printSchema()"
   ]
  },
  {
   "cell_type": "code",
   "execution_count": 222,
   "metadata": {},
   "outputs": [
    {
     "data": {
      "text/plain": [
       "pyspark.sql.dataframe.DataFrame"
      ]
     },
     "execution_count": 222,
     "metadata": {},
     "output_type": "execute_result"
    }
   ],
   "source": [
    "type(df_covid)"
   ]
  },
  {
   "cell_type": "code",
   "execution_count": 223,
   "metadata": {},
   "outputs": [
    {
     "name": "stdout",
     "output_type": "stream",
     "text": [
      "+------+------+---------+----------+--------------+---------------+----------------+---------------------+----+\n",
      "|regiao|estado|municipio|      data|casosAcumulado|obitosAcumulado|Recuperadosnovos|emAcompanhamentoNovos| ano|\n",
      "+------+------+---------+----------+--------------+---------------+----------------+---------------------+----+\n",
      "|Brasil|  null|     null|2020-02-25|             0|              0|            null|                 null|null|\n",
      "|Brasil|  null|     null|2020-02-26|             1|              0|            null|                 null|null|\n",
      "|Brasil|  null|     null|2020-02-27|             1|              0|            null|                 null|null|\n",
      "|Brasil|  null|     null|2020-02-28|             1|              0|            null|                 null|null|\n",
      "|Brasil|  null|     null|2020-02-29|             2|              0|            null|                 null|null|\n",
      "+------+------+---------+----------+--------------+---------------+----------------+---------------------+----+\n",
      "only showing top 5 rows\n",
      "\n"
     ]
    }
   ],
   "source": [
    "df_covid_reduced = df_covid.select('regiao', 'estado', 'municipio', 'data', 'casosAcumulado', 'obitosAcumulado', 'Recuperadosnovos', 'emAcompanhamentoNovos', 'ano')\n",
    "\n",
    "df_covid_reduced.show(5)"
   ]
  },
  {
   "cell_type": "code",
   "execution_count": 224,
   "metadata": {},
   "outputs": [
    {
     "name": "stdout",
     "output_type": "stream",
     "text": [
      "+------+------+---------+----------+--------------+---------------+----------------+---------------------+---+\n",
      "|regiao|estado|municipio|      data|casosAcumulado|obitosAcumulado|Recuperadosnovos|emAcompanhamentoNovos|ano|\n",
      "+------+------+---------+----------+--------------+---------------+----------------+---------------------+---+\n",
      "|Brasil|  null|     null|2020-02-25|             0|              0|               0|                    0|  0|\n",
      "|Brasil|  null|     null|2020-02-26|             1|              0|               0|                    0|  0|\n",
      "|Brasil|  null|     null|2020-02-27|             1|              0|               0|                    0|  0|\n",
      "|Brasil|  null|     null|2020-02-28|             1|              0|               0|                    0|  0|\n",
      "|Brasil|  null|     null|2020-02-29|             2|              0|               0|                    0|  0|\n",
      "+------+------+---------+----------+--------------+---------------+----------------+---------------------+---+\n",
      "only showing top 5 rows\n",
      "\n"
     ]
    }
   ],
   "source": [
    "df_covid_reduced = df_covid_reduced.na.fill(value=0)\n",
    "df_covid_reduced.show(5)"
   ]
  },
  {
   "cell_type": "code",
   "execution_count": 225,
   "metadata": {},
   "outputs": [],
   "source": [
    "from pyspark.sql.functions import *"
   ]
  },
  {
   "cell_type": "code",
   "execution_count": 226,
   "metadata": {},
   "outputs": [
    {
     "name": "stdout",
     "output_type": "stream",
     "text": [
      "+------+------+---------+----------------+--------------+---------------+----------------+---------------------+---+\n",
      "|regiao|estado|municipio|            data|casosAcumulado|obitosAcumulado|Recuperadosnovos|emAcompanhamentoNovos|ano|\n",
      "+------+------+---------+----------------+--------------+---------------+----------------+---------------------+---+\n",
      "|Brasil|  null|     null|25/02/2020 12:00|             0|              0|               0|                    0|  0|\n",
      "|Brasil|  null|     null|26/02/2020 12:00|             1|              0|               0|                    0|  0|\n",
      "|Brasil|  null|     null|27/02/2020 12:00|             1|              0|               0|                    0|  0|\n",
      "|Brasil|  null|     null|28/02/2020 12:00|             1|              0|               0|                    0|  0|\n",
      "|Brasil|  null|     null|29/02/2020 12:00|             2|              0|               0|                    0|  0|\n",
      "+------+------+---------+----------------+--------------+---------------+----------------+---------------------+---+\n",
      "only showing top 5 rows\n",
      "\n"
     ]
    }
   ],
   "source": [
    "df_covid_reduced = df_covid_reduced.withColumn('data', from_unixtime(unix_timestamp(col('data'), 'yyyy-MM-dd'), 'dd/MM/yyyy hh:mm'))"
   ]
  },
  {
   "cell_type": "code",
   "execution_count": 230,
   "metadata": {},
   "outputs": [
    {
     "name": "stdout",
     "output_type": "stream",
     "text": [
      "+------+------+---------+----------------+--------------+---------------+----------------+---------------------+---+\n",
      "|regiao|estado|municipio|            data|casosAcumulado|obitosAcumulado|Recuperadosnovos|emAcompanhamentoNovos|ano|\n",
      "+------+------+---------+----------------+--------------+---------------+----------------+---------------------+---+\n",
      "|Brasil|  null|     null|25/02/2020 12:00|             0|              0|               0|                    0|  0|\n",
      "|Brasil|  null|     null|26/02/2020 12:00|             1|              0|               0|                    0|  0|\n",
      "|Brasil|  null|     null|27/02/2020 12:00|             1|              0|               0|                    0|  0|\n",
      "|Brasil|  null|     null|28/02/2020 12:00|             1|              0|               0|                    0|  0|\n",
      "|Brasil|  null|     null|29/02/2020 12:00|             2|              0|               0|                    0|  0|\n",
      "+------+------+---------+----------------+--------------+---------------+----------------+---------------------+---+\n",
      "only showing top 5 rows\n",
      "\n"
     ]
    }
   ],
   "source": [
    "df_covid_reduced.show(5)"
   ]
  },
  {
   "cell_type": "code",
   "execution_count": 236,
   "metadata": {},
   "outputs": [],
   "source": [
    "df_covid_reduced = df_covid_reduced.na.fill(value='')"
   ]
  },
  {
   "cell_type": "code",
   "execution_count": 237,
   "metadata": {},
   "outputs": [
    {
     "name": "stdout",
     "output_type": "stream",
     "text": [
      "+------+------+---------+----------------+--------------+---------------+----------------+---------------------+---+\n",
      "|regiao|estado|municipio|            data|casosAcumulado|obitosAcumulado|Recuperadosnovos|emAcompanhamentoNovos|ano|\n",
      "+------+------+---------+----------------+--------------+---------------+----------------+---------------------+---+\n",
      "|Brasil|      |         |25/02/2020 12:00|             0|              0|               0|                    0|  0|\n",
      "|Brasil|      |         |26/02/2020 12:00|             1|              0|               0|                    0|  0|\n",
      "|Brasil|      |         |27/02/2020 12:00|             1|              0|               0|                    0|  0|\n",
      "|Brasil|      |         |28/02/2020 12:00|             1|              0|               0|                    0|  0|\n",
      "|Brasil|      |         |29/02/2020 12:00|             2|              0|               0|                    0|  0|\n",
      "+------+------+---------+----------------+--------------+---------------+----------------+---------------------+---+\n",
      "only showing top 5 rows\n",
      "\n"
     ]
    }
   ],
   "source": [
    "df_covid_reduced.show(5)"
   ]
  },
  {
   "cell_type": "code",
   "execution_count": 227,
   "metadata": {},
   "outputs": [
    {
     "name": "stdout",
     "output_type": "stream",
     "text": [
      "+------------+-------------------+\n",
      "|      regiao|max(casosAcumulado)|\n",
      "+------------+-------------------+\n",
      "|    Nordeste|             493400|\n",
      "|         Sul|             492583|\n",
      "|     Sudeste|            1462297|\n",
      "|Centro-Oeste|             308868|\n",
      "|      Brasil|            7675973|\n",
      "|       Norte|             293540|\n",
      "+------------+-------------------+\n",
      "\n"
     ]
    }
   ],
   "source": [
    "df_covid_reduced.groupBy(df_covid_reduced['regiao']).agg({'casosAcumulado':'max'}).show()"
   ]
  },
  {
   "cell_type": "code",
   "execution_count": null,
   "metadata": {},
   "outputs": [],
   "source": []
  }
 ],
 "metadata": {
  "kernelspec": {
   "display_name": "PySpark",
   "language": "python",
   "name": "pyspark"
  },
  "language_info": {
   "codemirror_mode": {
    "name": "ipython",
    "version": 3
   },
   "file_extension": ".py",
   "mimetype": "text/x-python",
   "name": "python",
   "nbconvert_exporter": "python",
   "pygments_lexer": "ipython3",
   "version": "3.6.10"
  }
 },
 "nbformat": 4,
 "nbformat_minor": 2
}
