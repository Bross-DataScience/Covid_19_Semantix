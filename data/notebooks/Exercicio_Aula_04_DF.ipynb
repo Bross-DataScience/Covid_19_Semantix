{
 "cells": [
  {
   "cell_type": "markdown",
   "metadata": {},
   "source": [
    "### Exercicios Schemas"
   ]
  },
  {
   "cell_type": "code",
   "execution_count": 15,
   "metadata": {},
   "outputs": [
    {
     "name": "stdout",
     "output_type": "stream",
     "text": [
      "Found 3 items\r\n",
      "drwxr-xr-x   - root supergroup          0 2022-04-05 15:03 /user/bross/data\r\n",
      "drwxr-xr-x   - root supergroup          0 2022-04-07 15:08 /user/bross/logs_count_word\r\n",
      "drwxr-xr-x   - root supergroup          0 2022-04-07 18:16 /user/bross/logs_count_word_5\r\n"
     ]
    }
   ],
   "source": [
    "!hdfs dfs -ls /user/bross"
   ]
  },
  {
   "cell_type": "code",
   "execution_count": 6,
   "metadata": {},
   "outputs": [],
   "source": [
    "names_us_without_schema = spark.read.csv('/user/bross/data/names/')"
   ]
  },
  {
   "cell_type": "code",
   "execution_count": 9,
   "metadata": {},
   "outputs": [
    {
     "name": "stdout",
     "output_type": "stream",
     "text": [
      "root\n",
      " |-- _c0: string (nullable = true)\n",
      " |-- _c1: string (nullable = true)\n",
      " |-- _c2: string (nullable = true)\n",
      "\n",
      "None\n",
      "+--------+---+-----+\n",
      "|     _c0|_c1|  _c2|\n",
      "+--------+---+-----+\n",
      "|    Emma|  F|18809|\n",
      "|Isabella|  F|18612|\n",
      "|   Emily|  F|17429|\n",
      "|  Olivia|  F|17078|\n",
      "|     Ava|  F|17035|\n",
      "+--------+---+-----+\n",
      "only showing top 5 rows\n",
      "\n"
     ]
    }
   ],
   "source": [
    "print(names_us_without_schema.printSchema())\n",
    "names_us_without_schema.show(5)"
   ]
  },
  {
   "cell_type": "code",
   "execution_count": 16,
   "metadata": {},
   "outputs": [],
   "source": [
    "from pyspark.sql.types import *"
   ]
  },
  {
   "cell_type": "code",
   "execution_count": 17,
   "metadata": {},
   "outputs": [],
   "source": [
    "structure_list = [\n",
    "    StructField('nome', StringType()),\n",
    "    StructField('sexo', StringType()),\n",
    "    StructField('quantidade', IntegerType())\n",
    "]\n",
    "\n",
    "structure_names = StructType(structure_list)"
   ]
  },
  {
   "cell_type": "code",
   "execution_count": 18,
   "metadata": {},
   "outputs": [],
   "source": [
    "names_us = spark.read.csv('/user/bross/data/names', schema=structure_names)"
   ]
  },
  {
   "cell_type": "code",
   "execution_count": 19,
   "metadata": {},
   "outputs": [
    {
     "name": "stdout",
     "output_type": "stream",
     "text": [
      "root\n",
      " |-- nome: string (nullable = true)\n",
      " |-- sexo: string (nullable = true)\n",
      " |-- quantidade: integer (nullable = true)\n",
      "\n",
      "None\n",
      "+--------+----+----------+\n",
      "|    nome|sexo|quantidade|\n",
      "+--------+----+----------+\n",
      "|    Emma|   F|     18809|\n",
      "|Isabella|   F|     18612|\n",
      "|   Emily|   F|     17429|\n",
      "|  Olivia|   F|     17078|\n",
      "|     Ava|   F|     17035|\n",
      "+--------+----+----------+\n",
      "only showing top 5 rows\n",
      "\n"
     ]
    }
   ],
   "source": [
    "print(names_us.printSchema())\n",
    "names_us.show(5)"
   ]
  },
  {
   "cell_type": "code",
   "execution_count": 21,
   "metadata": {},
   "outputs": [],
   "source": [
    "names_us.write.orc('/user/bross/names_us_orc')"
   ]
  },
  {
   "cell_type": "code",
   "execution_count": 22,
   "metadata": {},
   "outputs": [
    {
     "name": "stdout",
     "output_type": "stream",
     "text": [
      "Found 6 items\r\n",
      "-rw-r--r--   2 root supergroup          0 2022-04-07 19:36 /user/bross/names_us_orc/_SUCCESS\r\n",
      "-rw-r--r--   2 root supergroup    5373395 2022-04-07 19:36 /user/bross/names_us_orc/part-00000-511502e0-325f-4f3c-8e09-821dfee4fe79-c000.snappy.orc\r\n",
      "-rw-r--r--   2 root supergroup    2889115 2022-04-07 19:36 /user/bross/names_us_orc/part-00001-511502e0-325f-4f3c-8e09-821dfee4fe79-c000.snappy.orc\r\n",
      "-rw-r--r--   2 root supergroup    1900448 2022-04-07 19:36 /user/bross/names_us_orc/part-00002-511502e0-325f-4f3c-8e09-821dfee4fe79-c000.snappy.orc\r\n",
      "-rw-r--r--   2 root supergroup    1026246 2022-04-07 19:36 /user/bross/names_us_orc/part-00003-511502e0-325f-4f3c-8e09-821dfee4fe79-c000.snappy.orc\r\n",
      "-rw-r--r--   2 root supergroup     101254 2022-04-07 19:36 /user/bross/names_us_orc/part-00004-511502e0-325f-4f3c-8e09-821dfee4fe79-c000.snappy.orc\r\n"
     ]
    }
   ],
   "source": [
    "!hdfs dfs -ls /user/bross/names_us_orc"
   ]
  },
  {
   "cell_type": "code",
   "execution_count": null,
   "metadata": {},
   "outputs": [],
   "source": []
  }
 ],
 "metadata": {
  "kernelspec": {
   "display_name": "PySpark",
   "language": "python",
   "name": "pyspark"
  },
  "language_info": {
   "codemirror_mode": {
    "name": "ipython",
    "version": 3
   },
   "file_extension": ".py",
   "mimetype": "text/x-python",
   "name": "python",
   "nbconvert_exporter": "python",
   "pygments_lexer": "ipython3",
   "version": "3.6.10"
  }
 },
 "nbformat": 4,
 "nbformat_minor": 2
}
