{
 "cells": [
  {
   "cell_type": "markdown",
   "metadata": {},
   "source": [
    "## Exercicios Aula05 Parte 02"
   ]
  },
  {
   "cell_type": "code",
   "execution_count": 1,
   "metadata": {},
   "outputs": [
    {
     "name": "stdout",
     "output_type": "stream",
     "text": [
      "+----------+-----+\n",
      "|      data|valor|\n",
      "+----------+-----+\n",
      "|01/06/1986| 1,27|\n",
      "|01/07/1986| 1,95|\n",
      "|01/08/1986| 2,57|\n",
      "|01/09/1986| 2,94|\n",
      "|01/10/1986| 1,96|\n",
      "+----------+-----+\n",
      "only showing top 5 rows\n",
      "\n"
     ]
    }
   ],
   "source": [
    "juros_selic = spark.read.csv('/user/bross/data/juros_selic/juros_selic', header='true', sep=';')\n",
    "juros_selic.show(5)"
   ]
  },
  {
   "cell_type": "code",
   "execution_count": 6,
   "metadata": {},
   "outputs": [],
   "source": [
    "from pyspark.sql.functions import *\n",
    "from pyspark.sql.types import *"
   ]
  },
  {
   "cell_type": "code",
   "execution_count": 7,
   "metadata": {},
   "outputs": [
    {
     "name": "stdout",
     "output_type": "stream",
     "text": [
      "root\n",
      " |-- data: string (nullable = true)\n",
      " |-- valor: float (nullable = true)\n",
      " |-- ano: string (nullable = true)\n",
      "\n"
     ]
    }
   ],
   "source": [
    "juros_year = juros_selic.withColumn('ano', split(col('data'), '/').getItem(2))\n",
    "juros_quote = juros_year.withColumn('valor', regexp_replace(col('valor'), '\\,', '\\.').cast(FloatType()))\n",
    "\n",
    "juros_quote.printSchema()"
   ]
  },
  {
   "cell_type": "code",
   "execution_count": 16,
   "metadata": {},
   "outputs": [
    {
     "name": "stdout",
     "output_type": "stream",
     "text": [
      "+----+-----+-----------+------------+------------+\n",
      "| ano|Meses|Valor Médio|Valor Minímo|Valor Máximo|\n",
      "+----+-----+-----------+------------+------------+\n",
      "|1986|    7|       2.65|        1.27|        5.47|\n",
      "|1987|   12|      13.52|        7.99|       24.63|\n",
      "|1988|   12|      22.73|       16.59|       30.24|\n",
      "|1989|   12|      31.68|       11.43|       64.21|\n",
      "|1990|   12|      25.40|        4.23|       82.04|\n",
      "|1991|   12|      16.99|        6.85|       32.43|\n",
      "|1992|   12|      26.32|        23.0|       29.06|\n",
      "|1993|   12|      33.41|       28.36|       40.38|\n",
      "|1994|   12|      25.22|        3.62|       50.62|\n",
      "|1995|   12|       3.61|        2.78|        4.26|\n",
      "|1996|   12|       2.04|         1.8|        2.58|\n",
      "|1997|   12|       1.86|        1.58|        3.04|\n",
      "|1998|   12|       2.13|        1.48|        2.94|\n",
      "|1999|   12|       1.92|        1.38|        3.33|\n",
      "|2000|   12|       1.35|         1.2|        1.49|\n",
      "|2001|   12|       1.34|        1.02|         1.6|\n",
      "|2002|   12|       1.47|        1.25|        1.74|\n",
      "|2003|   12|       1.76|        1.34|        2.08|\n",
      "|2004|   12|       1.26|        1.08|        1.48|\n",
      "|2005|   12|       1.46|        1.22|        1.66|\n",
      "+----+-----+-----------+------------+------------+\n",
      "only showing top 20 rows\n",
      "\n"
     ]
    }
   ],
   "source": [
    "juros_relatory = juros_quote.groupBy('ano').agg(count('ano').alias('Meses'), \n",
    "                                                format_number(avg('valor'), 2).alias('Valor Médio'), \n",
    "                                                min('valor').alias('Valor Minímo'),\n",
    "                                                max('valor').alias('Valor Máximo')).sort(asc('ano'))\n",
    "juros_relatory.show()"
   ]
  },
  {
   "cell_type": "code",
   "execution_count": 15,
   "metadata": {},
   "outputs": [
    {
     "name": "stdout",
     "output_type": "stream",
     "text": [
      "+----+-----+-----------+------------+------------+\n",
      "| ano|Meses|Valor Médio|Valor Minímo|Valor Máximo|\n",
      "+----+-----+-----------+------------+------------+\n",
      "|1986|    7|       2.65|        1.27|        5.47|\n",
      "|1987|   12|      13.52|        7.99|       24.63|\n",
      "|1988|   12|      22.73|       16.59|       30.24|\n",
      "|1989|   12|      31.68|       11.43|       64.21|\n",
      "|1990|   12|      25.40|        4.23|       82.04|\n",
      "|1991|   12|      16.99|        6.85|       32.43|\n",
      "|1992|   12|      26.32|        23.0|       29.06|\n",
      "|1993|   12|      33.41|       28.36|       40.38|\n",
      "|1994|   12|      25.22|        3.62|       50.62|\n",
      "|1995|   12|       3.61|        2.78|        4.26|\n",
      "|1996|   12|       2.04|         1.8|        2.58|\n",
      "|1997|   12|       1.86|        1.58|        3.04|\n",
      "|1998|   12|       2.13|        1.48|        2.94|\n",
      "|1999|   12|       1.92|        1.38|        3.33|\n",
      "|2000|   12|       1.35|         1.2|        1.49|\n",
      "|2001|   12|       1.34|        1.02|         1.6|\n",
      "|2002|   12|       1.47|        1.25|        1.74|\n",
      "|2003|   12|       1.76|        1.34|        2.08|\n",
      "|2004|   12|       1.26|        1.08|        1.48|\n",
      "|2005|   12|       1.46|        1.22|        1.66|\n",
      "+----+-----+-----------+------------+------------+\n",
      "only showing top 20 rows\n",
      "\n"
     ]
    }
   ],
   "source": []
  },
  {
   "cell_type": "code",
   "execution_count": 29,
   "metadata": {},
   "outputs": [],
   "source": [
    "juros_relatory.write.orc('/user/bross/relatorio_anual', compression='zlib')"
   ]
  },
  {
   "cell_type": "code",
   "execution_count": 30,
   "metadata": {},
   "outputs": [
    {
     "name": "stdout",
     "output_type": "stream",
     "text": [
      "Found 35 items\n",
      "-rw-r--r--   2 root supergroup          0 2022-04-14 19:45 /user/bross/relatorio_anual/_SUCCESS\n",
      "-rw-r--r--   2 root supergroup        585 2022-04-14 19:45 /user/bross/relatorio_anual/part-00000-c74ef63f-5544-4f8a-94cf-2dfa26c3d495-c000.zlib.orc\n",
      "-rw-r--r--   2 root supergroup        585 2022-04-14 19:45 /user/bross/relatorio_anual/part-00001-c74ef63f-5544-4f8a-94cf-2dfa26c3d495-c000.zlib.orc\n",
      "-rw-r--r--   2 root supergroup        589 2022-04-14 19:45 /user/bross/relatorio_anual/part-00002-c74ef63f-5544-4f8a-94cf-2dfa26c3d495-c000.zlib.orc\n",
      "-rw-r--r--   2 root supergroup        576 2022-04-14 19:45 /user/bross/relatorio_anual/part-00003-c74ef63f-5544-4f8a-94cf-2dfa26c3d495-c000.zlib.orc\n",
      "-rw-r--r--   2 root supergroup        587 2022-04-14 19:45 /user/bross/relatorio_anual/part-00004-c74ef63f-5544-4f8a-94cf-2dfa26c3d495-c000.zlib.orc\n",
      "-rw-r--r--   2 root supergroup        585 2022-04-14 19:45 /user/bross/relatorio_anual/part-00005-c74ef63f-5544-4f8a-94cf-2dfa26c3d495-c000.zlib.orc\n",
      "-rw-r--r--   2 root supergroup        583 2022-04-14 19:45 /user/bross/relatorio_anual/part-00006-c74ef63f-5544-4f8a-94cf-2dfa26c3d495-c000.zlib.orc\n",
      "-rw-r--r--   2 root supergroup        585 2022-04-14 19:45 /user/bross/relatorio_anual/part-00007-c74ef63f-5544-4f8a-94cf-2dfa26c3d495-c000.zlib.orc\n",
      "-rw-r--r--   2 root supergroup        589 2022-04-14 19:45 /user/bross/relatorio_anual/part-00008-c74ef63f-5544-4f8a-94cf-2dfa26c3d495-c000.zlib.orc\n",
      "-rw-r--r--   2 root supergroup        589 2022-04-14 19:45 /user/bross/relatorio_anual/part-00009-c74ef63f-5544-4f8a-94cf-2dfa26c3d495-c000.zlib.orc\n",
      "-rw-r--r--   2 root supergroup        590 2022-04-14 19:45 /user/bross/relatorio_anual/part-00010-c74ef63f-5544-4f8a-94cf-2dfa26c3d495-c000.zlib.orc\n",
      "-rw-r--r--   2 root supergroup        587 2022-04-14 19:45 /user/bross/relatorio_anual/part-00011-c74ef63f-5544-4f8a-94cf-2dfa26c3d495-c000.zlib.orc\n",
      "-rw-r--r--   2 root supergroup        590 2022-04-14 19:45 /user/bross/relatorio_anual/part-00012-c74ef63f-5544-4f8a-94cf-2dfa26c3d495-c000.zlib.orc\n",
      "-rw-r--r--   2 root supergroup        589 2022-04-14 19:45 /user/bross/relatorio_anual/part-00013-c74ef63f-5544-4f8a-94cf-2dfa26c3d495-c000.zlib.orc\n",
      "-rw-r--r--   2 root supergroup        585 2022-04-14 19:45 /user/bross/relatorio_anual/part-00014-c74ef63f-5544-4f8a-94cf-2dfa26c3d495-c000.zlib.orc\n",
      "-rw-r--r--   2 root supergroup        585 2022-04-14 19:45 /user/bross/relatorio_anual/part-00015-c74ef63f-5544-4f8a-94cf-2dfa26c3d495-c000.zlib.orc\n",
      "-rw-r--r--   2 root supergroup        588 2022-04-14 19:45 /user/bross/relatorio_anual/part-00016-c74ef63f-5544-4f8a-94cf-2dfa26c3d495-c000.zlib.orc\n",
      "-rw-r--r--   2 root supergroup        576 2022-04-14 19:45 /user/bross/relatorio_anual/part-00017-c74ef63f-5544-4f8a-94cf-2dfa26c3d495-c000.zlib.orc\n",
      "-rw-r--r--   2 root supergroup        590 2022-04-14 19:45 /user/bross/relatorio_anual/part-00018-c74ef63f-5544-4f8a-94cf-2dfa26c3d495-c000.zlib.orc\n",
      "-rw-r--r--   2 root supergroup        583 2022-04-14 19:45 /user/bross/relatorio_anual/part-00019-c74ef63f-5544-4f8a-94cf-2dfa26c3d495-c000.zlib.orc\n",
      "-rw-r--r--   2 root supergroup        583 2022-04-14 19:45 /user/bross/relatorio_anual/part-00020-c74ef63f-5544-4f8a-94cf-2dfa26c3d495-c000.zlib.orc\n",
      "-rw-r--r--   2 root supergroup        585 2022-04-14 19:45 /user/bross/relatorio_anual/part-00021-c74ef63f-5544-4f8a-94cf-2dfa26c3d495-c000.zlib.orc\n",
      "-rw-r--r--   2 root supergroup        583 2022-04-14 19:45 /user/bross/relatorio_anual/part-00022-c74ef63f-5544-4f8a-94cf-2dfa26c3d495-c000.zlib.orc\n",
      "-rw-r--r--   2 root supergroup        589 2022-04-14 19:45 /user/bross/relatorio_anual/part-00023-c74ef63f-5544-4f8a-94cf-2dfa26c3d495-c000.zlib.orc\n",
      "-rw-r--r--   2 root supergroup        585 2022-04-14 19:45 /user/bross/relatorio_anual/part-00024-c74ef63f-5544-4f8a-94cf-2dfa26c3d495-c000.zlib.orc\n",
      "-rw-r--r--   2 root supergroup        609 2022-04-14 19:45 /user/bross/relatorio_anual/part-00025-c74ef63f-5544-4f8a-94cf-2dfa26c3d495-c000.zlib.orc\n",
      "-rw-r--r--   2 root supergroup        606 2022-04-14 19:45 /user/bross/relatorio_anual/part-00026-c74ef63f-5544-4f8a-94cf-2dfa26c3d495-c000.zlib.orc\n",
      "-rw-r--r--   2 root supergroup        599 2022-04-14 19:45 /user/bross/relatorio_anual/part-00027-c74ef63f-5544-4f8a-94cf-2dfa26c3d495-c000.zlib.orc\n",
      "-rw-r--r--   2 root supergroup        609 2022-04-14 19:45 /user/bross/relatorio_anual/part-00028-c74ef63f-5544-4f8a-94cf-2dfa26c3d495-c000.zlib.orc\n",
      "-rw-r--r--   2 root supergroup        609 2022-04-14 19:45 /user/bross/relatorio_anual/part-00029-c74ef63f-5544-4f8a-94cf-2dfa26c3d495-c000.zlib.orc\n",
      "-rw-r--r--   2 root supergroup        606 2022-04-14 19:45 /user/bross/relatorio_anual/part-00030-c74ef63f-5544-4f8a-94cf-2dfa26c3d495-c000.zlib.orc\n",
      "-rw-r--r--   2 root supergroup        609 2022-04-14 19:45 /user/bross/relatorio_anual/part-00031-c74ef63f-5544-4f8a-94cf-2dfa26c3d495-c000.zlib.orc\n",
      "-rw-r--r--   2 root supergroup        609 2022-04-14 19:45 /user/bross/relatorio_anual/part-00032-c74ef63f-5544-4f8a-94cf-2dfa26c3d495-c000.zlib.orc\n",
      "-rw-r--r--   2 root supergroup        585 2022-04-14 19:45 /user/bross/relatorio_anual/part-00033-c74ef63f-5544-4f8a-94cf-2dfa26c3d495-c000.zlib.orc\n"
     ]
    }
   ],
   "source": [
    "! hdfs dfs -ls /user/bross/relatorio_anual"
   ]
  },
  {
   "cell_type": "code",
   "execution_count": null,
   "metadata": {},
   "outputs": [],
   "source": []
  }
 ],
 "metadata": {
  "kernelspec": {
   "display_name": "PySpark",
   "language": "python",
   "name": "pyspark"
  },
  "language_info": {
   "codemirror_mode": {
    "name": "ipython",
    "version": 3
   },
   "file_extension": ".py",
   "mimetype": "text/x-python",
   "name": "python",
   "nbconvert_exporter": "python",
   "pygments_lexer": "ipython3",
   "version": "3.6.10"
  }
 },
 "nbformat": 4,
 "nbformat_minor": 2
}
